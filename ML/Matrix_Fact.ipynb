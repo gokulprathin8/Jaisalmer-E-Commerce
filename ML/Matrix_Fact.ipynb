{
  "nbformat": 4,
  "nbformat_minor": 0,
  "metadata": {
    "colab": {
      "name": "Matrix Fact.ipynb",
      "provenance": [],
      "collapsed_sections": []
    },
    "kernelspec": {
      "name": "python3",
      "display_name": "Python 3"
    },
    "accelerator": "GPU"
  },
  "cells": [
    {
      "cell_type": "code",
      "metadata": {
        "id": "2fS6BLWHWalA"
      },
      "source": [
        "import pandas as pd\n",
        "import numpy as np\n",
        "from sklearn.preprocessing import LabelEncoder\n",
        "from sklearn.metrics.pairwise import pairwise_distances "
      ],
      "execution_count": 2,
      "outputs": []
    },
    {
      "cell_type": "code",
      "metadata": {
        "colab": {
          "base_uri": "https://localhost:8080/",
          "height": 195
        },
        "id": "bvhdF-opvJTN",
        "outputId": "751ca156-9356-41d1-e4ca-d21671094e56"
      },
      "source": [
        "rating=pd.read_csv('/content/drive/MyDrive/totaldata.txt',header = None, sep = '\\t', encoding='latin-1')\n",
        "train_df = pd.read_csv('/content/drive/MyDrive/training.txt',header = None, sep = '\\t',encoding='latin-1')\n",
        "test_df = pd.read_csv('/content/drive/MyDrive/test.txt', header = None, sep = '\\t',encoding='latin-1')\n",
        "rating.columns = ['userID','itemID','rating']\n",
        "train_df.columns = ['userID','itemID','rating']\n",
        "test_df.columns = ['userID','itemID','rating']\n",
        "rating.head()"
      ],
      "execution_count": 3,
      "outputs": [
        {
          "output_type": "execute_result",
          "data": {
            "text/html": [
              "<div>\n",
              "<style scoped>\n",
              "    .dataframe tbody tr th:only-of-type {\n",
              "        vertical-align: middle;\n",
              "    }\n",
              "\n",
              "    .dataframe tbody tr th {\n",
              "        vertical-align: top;\n",
              "    }\n",
              "\n",
              "    .dataframe thead th {\n",
              "        text-align: right;\n",
              "    }\n",
              "</style>\n",
              "<table border=\"1\" class=\"dataframe\">\n",
              "  <thead>\n",
              "    <tr style=\"text-align: right;\">\n",
              "      <th></th>\n",
              "      <th>userID</th>\n",
              "      <th>itemID</th>\n",
              "      <th>rating</th>\n",
              "    </tr>\n",
              "  </thead>\n",
              "  <tbody>\n",
              "    <tr>\n",
              "      <th>0</th>\n",
              "      <td>A24FQNZ2ZCP9UH</td>\n",
              "      <td>B004DK0UDA</td>\n",
              "      <td>5.0</td>\n",
              "    </tr>\n",
              "    <tr>\n",
              "      <th>1</th>\n",
              "      <td>A9MYCYZT8EMMX</td>\n",
              "      <td>B00AWCNF9O</td>\n",
              "      <td>1.0</td>\n",
              "    </tr>\n",
              "    <tr>\n",
              "      <th>2</th>\n",
              "      <td>A1T5GAE8KIMVTF</td>\n",
              "      <td>B001V3TVEQ</td>\n",
              "      <td>5.0</td>\n",
              "    </tr>\n",
              "    <tr>\n",
              "      <th>3</th>\n",
              "      <td>A12KFVKK4UXYBH</td>\n",
              "      <td>B000U0CA0I</td>\n",
              "      <td>5.0</td>\n",
              "    </tr>\n",
              "    <tr>\n",
              "      <th>4</th>\n",
              "      <td>A9MYCYZT8EMMX</td>\n",
              "      <td>B001B7MAU4</td>\n",
              "      <td>5.0</td>\n",
              "    </tr>\n",
              "  </tbody>\n",
              "</table>\n",
              "</div>"
            ],
            "text/plain": [
              "           userID      itemID  rating\n",
              "0  A24FQNZ2ZCP9UH  B004DK0UDA     5.0\n",
              "1   A9MYCYZT8EMMX  B00AWCNF9O     1.0\n",
              "2  A1T5GAE8KIMVTF  B001V3TVEQ     5.0\n",
              "3  A12KFVKK4UXYBH  B000U0CA0I     5.0\n",
              "4   A9MYCYZT8EMMX  B001B7MAU4     5.0"
            ]
          },
          "metadata": {
            "tags": []
          },
          "execution_count": 3
        }
      ]
    },
    {
      "cell_type": "code",
      "metadata": {
        "id": "5Yt0auCEvf6Q"
      },
      "source": [
        "le=LabelEncoder()\n",
        "rating.iloc[:,0]=le.fit_transform(rating.iloc[:,0])\n",
        "rating.iloc[:,1]=le.fit_transform(rating.iloc[:,1])"
      ],
      "execution_count": 4,
      "outputs": []
    },
    {
      "cell_type": "code",
      "metadata": {
        "id": "bNY2ACqu_TO5"
      },
      "source": [
        "np.random.seed(3)\n",
        "msk = np.random.rand(len(rating)) < 0.8\n",
        "train = rating[msk].copy()\n",
        "val = rating[~msk].copy()"
      ],
      "execution_count": 6,
      "outputs": []
    },
    {
      "cell_type": "code",
      "metadata": {
        "id": "okYeNZY__esX"
      },
      "source": [
        "def proc_col(col, train_col=None):\n",
        "    \"\"\"Encodes a pandas column with continous ids. \n",
        "    \"\"\"\n",
        "    if train_col is not None:\n",
        "        uniq = train_col.unique()\n",
        "    else:\n",
        "        uniq = col.unique()\n",
        "    name2idx = {o:i for i,o in enumerate(uniq)}\n",
        "    return name2idx, np.array([name2idx.get(x, -1) for x in col]), len(uniq)"
      ],
      "execution_count": 7,
      "outputs": []
    },
    {
      "cell_type": "code",
      "metadata": {
        "id": "4XYbt3hP_egZ"
      },
      "source": [
        "def encode_data(df, train=None):\n",
        "    \"\"\" Encodes rating data with continous user and movie ids. \n",
        "    If train is provided, encodes df with the same encoding as train.\n",
        "    \"\"\"\n",
        "    df = df.copy()\n",
        "    for col_name in [\"userID\", \"itemID\"]:\n",
        "        train_col = None\n",
        "        if train is not None:\n",
        "            train_col = train[col_name]\n",
        "        _,col,_ = proc_col(df[col_name], train_col)\n",
        "        df[col_name] = col\n",
        "        df = df[df[col_name] >= 0]\n",
        "    return df"
      ],
      "execution_count": 10,
      "outputs": []
    },
    {
      "cell_type": "code",
      "metadata": {
        "colab": {
          "base_uri": "https://localhost:8080/"
        },
        "id": "KNHEXkjt_eSX",
        "outputId": "3f8c8f4d-a465-4df8-fc20-64e5bcd92deb"
      },
      "source": [
        "df_t_e = encode_data(train_df)\n",
        "df_v_e = encode_data(test_df, train_df)\n",
        "df_v_e\n",
        "print(df_t_e)"
      ],
      "execution_count": 11,
      "outputs": [
        {
          "output_type": "stream",
          "text": [
            "       userID  itemID  rating\n",
            "0           0       0     5.0\n",
            "1           1       1     1.0\n",
            "2           2       2     5.0\n",
            "3           3       3     5.0\n",
            "4           1       4     5.0\n",
            "...       ...     ...     ...\n",
            "82210    8731   11341     5.0\n",
            "82211   13374   11342     5.0\n",
            "82212   13136   11343     4.0\n",
            "82213    1599   11344     4.0\n",
            "82214    1524   11345     5.0\n",
            "\n",
            "[82215 rows x 3 columns]\n"
          ],
          "name": "stdout"
        }
      ]
    },
    {
      "cell_type": "code",
      "metadata": {
        "id": "s5TOIZzc_eN1"
      },
      "source": [
        "df_train = encode_data(train_df)\n",
        "df_val = encode_data(test_df, train_df)"
      ],
      "execution_count": 12,
      "outputs": []
    },
    {
      "cell_type": "markdown",
      "metadata": {
        "id": "0iS4NsM_Adz7"
      },
      "source": [
        "**Embedding Layer**"
      ]
    },
    {
      "cell_type": "code",
      "metadata": {
        "id": "jh8dYfaCAb23"
      },
      "source": [
        "import torch\n",
        "import torch.nn as nn\n",
        "import torch.nn.functional as F"
      ],
      "execution_count": 13,
      "outputs": []
    },
    {
      "cell_type": "code",
      "metadata": {
        "id": "ixWaJJEhAbw-"
      },
      "source": [
        "embed = nn.Embedding(10, 3)"
      ],
      "execution_count": 14,
      "outputs": []
    },
    {
      "cell_type": "code",
      "metadata": {
        "colab": {
          "base_uri": "https://localhost:8080/"
        },
        "id": "TfojssLKArP4",
        "outputId": "d5644ffa-173e-4dd0-d977-de44e6e9cd9b"
      },
      "source": [
        "a = torch.LongTensor([[1,2,0,4,5,1]])\n",
        "embed(a)"
      ],
      "execution_count": 15,
      "outputs": [
        {
          "output_type": "execute_result",
          "data": {
            "text/plain": [
              "tensor([[[ 1.2002,  0.7472, -0.7497],\n",
              "         [ 1.7924, -0.5355,  1.1031],\n",
              "         [-0.5283,  0.3882, -0.3147],\n",
              "         [-0.2655, -1.9845, -1.5578],\n",
              "         [-0.6085, -0.4083, -1.2003],\n",
              "         [ 1.2002,  0.7472, -0.7497]]], grad_fn=<EmbeddingBackward>)"
            ]
          },
          "metadata": {
            "tags": []
          },
          "execution_count": 15
        }
      ]
    },
    {
      "cell_type": "markdown",
      "metadata": {
        "id": "UMqGSZYHAvtP"
      },
      "source": [
        "**Matrix factorization model**"
      ]
    },
    {
      "cell_type": "code",
      "metadata": {
        "id": "F7hdAetaAvI8"
      },
      "source": [
        "class MF(nn.Module):\n",
        "    def __init__(self, num_users, num_items, emb_size=100):\n",
        "        super(MF, self).__init__()\n",
        "        self.user_emb = nn.Embedding(num_users, emb_size)\n",
        "        self.item_emb = nn.Embedding(num_items, emb_size)\n",
        "        self.user_emb.weight.data.uniform_(0, 0.05)\n",
        "        self.item_emb.weight.data.uniform_(0, 0.05)\n",
        "        \n",
        "    def forward(self, u, v):\n",
        "        u = self.user_emb(u)\n",
        "        v = self.item_emb(v)\n",
        "        return (u*v).sum(1)"
      ],
      "execution_count": 16,
      "outputs": []
    },
    {
      "cell_type": "markdown",
      "metadata": {
        "id": "2nEas3b4A5K-"
      },
      "source": [
        "**Training MF model**"
      ]
    },
    {
      "cell_type": "code",
      "metadata": {
        "colab": {
          "base_uri": "https://localhost:8080/",
          "height": 402
        },
        "id": "PQz8JHCTA4r_",
        "outputId": "41812ff9-9903-47d2-9863-70d68af69f29"
      },
      "source": [
        "df_t_e"
      ],
      "execution_count": 17,
      "outputs": [
        {
          "output_type": "execute_result",
          "data": {
            "text/html": [
              "<div>\n",
              "<style scoped>\n",
              "    .dataframe tbody tr th:only-of-type {\n",
              "        vertical-align: middle;\n",
              "    }\n",
              "\n",
              "    .dataframe tbody tr th {\n",
              "        vertical-align: top;\n",
              "    }\n",
              "\n",
              "    .dataframe thead th {\n",
              "        text-align: right;\n",
              "    }\n",
              "</style>\n",
              "<table border=\"1\" class=\"dataframe\">\n",
              "  <thead>\n",
              "    <tr style=\"text-align: right;\">\n",
              "      <th></th>\n",
              "      <th>userID</th>\n",
              "      <th>itemID</th>\n",
              "      <th>rating</th>\n",
              "    </tr>\n",
              "  </thead>\n",
              "  <tbody>\n",
              "    <tr>\n",
              "      <th>0</th>\n",
              "      <td>0</td>\n",
              "      <td>0</td>\n",
              "      <td>5.0</td>\n",
              "    </tr>\n",
              "    <tr>\n",
              "      <th>1</th>\n",
              "      <td>1</td>\n",
              "      <td>1</td>\n",
              "      <td>1.0</td>\n",
              "    </tr>\n",
              "    <tr>\n",
              "      <th>2</th>\n",
              "      <td>2</td>\n",
              "      <td>2</td>\n",
              "      <td>5.0</td>\n",
              "    </tr>\n",
              "    <tr>\n",
              "      <th>3</th>\n",
              "      <td>3</td>\n",
              "      <td>3</td>\n",
              "      <td>5.0</td>\n",
              "    </tr>\n",
              "    <tr>\n",
              "      <th>4</th>\n",
              "      <td>1</td>\n",
              "      <td>4</td>\n",
              "      <td>5.0</td>\n",
              "    </tr>\n",
              "    <tr>\n",
              "      <th>...</th>\n",
              "      <td>...</td>\n",
              "      <td>...</td>\n",
              "      <td>...</td>\n",
              "    </tr>\n",
              "    <tr>\n",
              "      <th>82210</th>\n",
              "      <td>8731</td>\n",
              "      <td>11341</td>\n",
              "      <td>5.0</td>\n",
              "    </tr>\n",
              "    <tr>\n",
              "      <th>82211</th>\n",
              "      <td>13374</td>\n",
              "      <td>11342</td>\n",
              "      <td>5.0</td>\n",
              "    </tr>\n",
              "    <tr>\n",
              "      <th>82212</th>\n",
              "      <td>13136</td>\n",
              "      <td>11343</td>\n",
              "      <td>4.0</td>\n",
              "    </tr>\n",
              "    <tr>\n",
              "      <th>82213</th>\n",
              "      <td>1599</td>\n",
              "      <td>11344</td>\n",
              "      <td>4.0</td>\n",
              "    </tr>\n",
              "    <tr>\n",
              "      <th>82214</th>\n",
              "      <td>1524</td>\n",
              "      <td>11345</td>\n",
              "      <td>5.0</td>\n",
              "    </tr>\n",
              "  </tbody>\n",
              "</table>\n",
              "<p>82215 rows × 3 columns</p>\n",
              "</div>"
            ],
            "text/plain": [
              "       userID  itemID  rating\n",
              "0           0       0     5.0\n",
              "1           1       1     1.0\n",
              "2           2       2     5.0\n",
              "3           3       3     5.0\n",
              "4           1       4     5.0\n",
              "...       ...     ...     ...\n",
              "82210    8731   11341     5.0\n",
              "82211   13374   11342     5.0\n",
              "82212   13136   11343     4.0\n",
              "82213    1599   11344     4.0\n",
              "82214    1524   11345     5.0\n",
              "\n",
              "[82215 rows x 3 columns]"
            ]
          },
          "metadata": {
            "tags": []
          },
          "execution_count": 17
        }
      ]
    },
    {
      "cell_type": "code",
      "metadata": {
        "colab": {
          "base_uri": "https://localhost:8080/"
        },
        "id": "gLEhTaZPA1qV",
        "outputId": "172e2631-e5a2-4f7a-e3f1-708f29ca881e"
      },
      "source": [
        "num_users = len(df_train.userID.unique())\n",
        "num_items = len(df_train.itemID.unique())\n",
        "print(num_users, num_items)"
      ],
      "execution_count": 22,
      "outputs": [
        {
          "output_type": "stream",
          "text": [
            "15006 11346\n"
          ],
          "name": "stdout"
        }
      ]
    },
    {
      "cell_type": "code",
      "metadata": {
        "id": "kwudSHBKA1k6"
      },
      "source": [
        "model = MF(num_users, num_items, emb_size=100)"
      ],
      "execution_count": 23,
      "outputs": []
    },
    {
      "cell_type": "code",
      "metadata": {
        "id": "CT5El7brA1fx"
      },
      "source": [
        "def train_epocs(model, epochs=10, lr=0.01, wd=0.0, unsqueeze=False):\n",
        "    optimizer = torch.optim.Adam(model.parameters(), lr=lr, weight_decay=wd)\n",
        "    model.train()\n",
        "    for i in range(epochs):\n",
        "        users = torch.LongTensor(df_train.userID.values) # .cuda()\n",
        "        items = torch.LongTensor(df_train.itemID.values) #.cuda()\n",
        "        ratings = torch.FloatTensor(df_train.rating.values) #.cuda()\n",
        "        if unsqueeze:\n",
        "            ratings = ratings.unsqueeze(1)\n",
        "        y_hat = model(users, items)\n",
        "        loss = F.mse_loss(y_hat, ratings)\n",
        "        optimizer.zero_grad()\n",
        "        loss.backward()\n",
        "        optimizer.step()\n",
        "        print(loss.item()) \n",
        "    test_loss(model, unsqueeze)"
      ],
      "execution_count": 30,
      "outputs": []
    },
    {
      "cell_type": "code",
      "metadata": {
        "colab": {
          "base_uri": "https://localhost:8080/"
        },
        "id": "wN8rUQyMA1ZJ",
        "outputId": "6ef1b3c8-6ecc-4393-9241-53a1036d97bb"
      },
      "source": [
        "ratings = torch.FloatTensor(df_train.rating.values)\n",
        "print(ratings.shape)\n",
        "ratings = ratings.unsqueeze(1) # .cuda()\n",
        "print(ratings.shape)"
      ],
      "execution_count": 31,
      "outputs": [
        {
          "output_type": "stream",
          "text": [
            "torch.Size([82215])\n",
            "torch.Size([82215, 1])\n"
          ],
          "name": "stdout"
        }
      ]
    },
    {
      "cell_type": "code",
      "metadata": {
        "id": "Tn24cAhNA1Sz"
      },
      "source": [
        "def test_loss(model, unsqueeze=False):\n",
        "    model.eval()\n",
        "    users = torch.LongTensor(df_val.userID.values) #.cuda()\n",
        "    items = torch.LongTensor(df_val.itemID.values) #.cuda()\n",
        "    ratings = torch.FloatTensor(df_val.rating.values) #.cuda()\n",
        "    if unsqueeze:\n",
        "        ratings = ratings.unsqueeze(1)\n",
        "    y_hat = model(users, items)\n",
        "    loss = F.mse_loss(y_hat, ratings)\n",
        "    print(\"test loss %.3f \" % loss.item())"
      ],
      "execution_count": 32,
      "outputs": []
    },
    {
      "cell_type": "code",
      "metadata": {
        "colab": {
          "base_uri": "https://localhost:8080/"
        },
        "id": "6QzPPzgiA1NS",
        "outputId": "21327478-e169-4037-b4bb-a528f73d1c38"
      },
      "source": [
        "train_epocs(model, epochs=10, lr=0.1)"
      ],
      "execution_count": 33,
      "outputs": [
        {
          "output_type": "stream",
          "text": [
            "18.51939582824707\n",
            "8.356239318847656\n",
            "1.5677030086517334\n",
            "8.205473899841309\n",
            "2.299245595932007\n",
            "1.400342583656311\n",
            "3.536900520324707\n",
            "4.510695457458496\n",
            "3.705566167831421\n",
            "2.058432102203369\n",
            "test loss 2.544 \n"
          ],
          "name": "stdout"
        }
      ]
    },
    {
      "cell_type": "code",
      "metadata": {
        "colab": {
          "base_uri": "https://localhost:8080/"
        },
        "id": "8o4BR1xuCb5k",
        "outputId": "21399995-a02e-4a0e-a628-e4cd8fd89af9"
      },
      "source": [
        "train_epocs(model, epochs=15, lr=0.01)"
      ],
      "execution_count": 34,
      "outputs": [
        {
          "output_type": "stream",
          "text": [
            "1.1593294143676758\n",
            "0.8554468750953674\n",
            "0.7289605140686035\n",
            "0.7024853229522705\n",
            "0.7106793522834778\n",
            "0.7161605954170227\n",
            "0.7055453062057495\n",
            "0.6808405518531799\n",
            "0.6494582891464233\n",
            "0.6176015734672546\n",
            "0.5883939862251282\n",
            "0.5624181628227234\n",
            "0.5387393236160278\n",
            "0.515783965587616\n",
            "0.49205508828163147\n",
            "test loss 1.803 \n"
          ],
          "name": "stdout"
        }
      ]
    },
    {
      "cell_type": "markdown",
      "metadata": {
        "id": "rFm6jaM1vxef"
      },
      "source": [
        "\n",
        "\n",
        "\n",
        "\n",
        "**MF with bias**"
      ]
    },
    {
      "cell_type": "code",
      "metadata": {
        "id": "MxfY34KOvvad"
      },
      "source": [
        "class MF_bias(nn.Module):\n",
        "    def __init__(self, num_users, num_items, emb_size=100):\n",
        "        super(MF_bias, self).__init__()\n",
        "        self.user_emb = nn.Embedding(num_users, emb_size)\n",
        "        self.user_bias = nn.Embedding(num_users, 1)\n",
        "        self.item_emb = nn.Embedding(num_items, emb_size)\n",
        "        self.item_bias = nn.Embedding(num_items, 1)\n",
        "        self.user_emb.weight.data.uniform_(0,0.05)\n",
        "        self.item_emb.weight.data.uniform_(0,0.05)\n",
        "        self.user_bias.weight.data.uniform_(-0.01,0.01)\n",
        "        self.item_bias.weight.data.uniform_(-0.01,0.01)\n",
        "        \n",
        "    def forward(self, u, v):\n",
        "        U = self.user_emb(u)\n",
        "        V = self.item_emb(v)\n",
        "        b_u = self.user_bias(u).squeeze()\n",
        "        b_v = self.item_bias(v).squeeze()\n",
        "        return (U*V).sum(1) +  b_u  + b_v"
      ],
      "execution_count": 35,
      "outputs": []
    },
    {
      "cell_type": "code",
      "metadata": {
        "id": "tCF7yCh5v-8f"
      },
      "source": [
        "model = MF_bias(num_users, num_items, emb_size=100) #.cuda()"
      ],
      "execution_count": 36,
      "outputs": []
    },
    {
      "cell_type": "code",
      "metadata": {
        "id": "VMfjuqCVwAk1",
        "colab": {
          "base_uri": "https://localhost:8080/"
        },
        "outputId": "334a140a-a4c2-4585-ebd4-19a8586e032d"
      },
      "source": [
        "train_epocs(model, epochs=10, lr=0.05, wd=1e-5)"
      ],
      "execution_count": 37,
      "outputs": [
        {
          "output_type": "stream",
          "text": [
            "18.521564483642578\n",
            "13.923646926879883\n",
            "7.7541422843933105\n",
            "2.4235916137695312\n",
            "1.6923866271972656\n",
            "4.558290004730225\n",
            "4.361111164093018\n",
            "2.3268373012542725\n",
            "1.0350311994552612\n",
            "1.0915905237197876\n",
            "test loss 2.964 \n"
          ],
          "name": "stdout"
        }
      ]
    },
    {
      "cell_type": "code",
      "metadata": {
        "id": "LnY-Rrd-wCJb",
        "colab": {
          "base_uri": "https://localhost:8080/"
        },
        "outputId": "14b20ea3-f4da-405b-d66b-184676524f1f"
      },
      "source": [
        "train_epocs(model, epochs=10, lr=0.01, wd=1e-5)"
      ],
      "execution_count": 38,
      "outputs": [
        {
          "output_type": "stream",
          "text": [
            "1.8485078811645508\n",
            "1.2639573812484741\n",
            "0.9274323582649231\n",
            "0.8150718808174133\n",
            "0.8146262168884277\n",
            "0.8259437680244446\n",
            "0.813369870185852\n",
            "0.7848475575447083\n",
            "0.7609520554542542\n",
            "0.7547149062156677\n",
            "test loss 1.502 \n"
          ],
          "name": "stdout"
        }
      ]
    },
    {
      "cell_type": "markdown",
      "metadata": {
        "id": "msv9LX9UzG2N"
      },
      "source": [
        "**Neural Network Model**"
      ]
    },
    {
      "cell_type": "code",
      "metadata": {
        "id": "FFXMsRQJwfx5"
      },
      "source": [
        "# Note here there is no matrix multiplication, we could potentially make the embeddings of different sizes.\n",
        "# Here we could get better results by keep playing with regularization.\n",
        "    \n",
        "class CollabFNet(nn.Module):\n",
        "    def __init__(self, num_users, num_items, emb_size=100, n_hidden=10):\n",
        "        super(CollabFNet, self).__init__()\n",
        "        self.user_emb = nn.Embedding(num_users, emb_size)\n",
        "        self.item_emb = nn.Embedding(num_items, emb_size)\n",
        "        self.lin1 = nn.Linear(emb_size*2, n_hidden)\n",
        "        self.lin2 = nn.Linear(n_hidden, 1)\n",
        "        self.drop1 = nn.Dropout(0.1)\n",
        "        \n",
        "    def forward(self, u, v):\n",
        "        U = self.user_emb(u)\n",
        "        V = self.item_emb(v)\n",
        "        x = F.relu(torch.cat([U, V], dim=1))\n",
        "        x = self.drop1(x)\n",
        "        x = F.relu(self.lin1(x))\n",
        "        x = self.lin2(x)\n",
        "        return x"
      ],
      "execution_count": 39,
      "outputs": []
    },
    {
      "cell_type": "code",
      "metadata": {
        "id": "C97KljVZy9Ga"
      },
      "source": [
        "model = CollabFNet(num_users, num_items, emb_size=100) #.cuda()"
      ],
      "execution_count": 40,
      "outputs": []
    },
    {
      "cell_type": "code",
      "metadata": {
        "id": "gH-Sl0x70P2n",
        "colab": {
          "base_uri": "https://localhost:8080/"
        },
        "outputId": "3c9fede0-fb2c-4e13-d6a3-21f557472294"
      },
      "source": [
        "train_epocs(model, epochs=15, lr=0.05, wd=1e-6, unsqueeze=True)"
      ],
      "execution_count": 41,
      "outputs": [
        {
          "output_type": "stream",
          "text": [
            "16.375076293945312\n",
            "18.092815399169922\n",
            "1.6344852447509766\n",
            "6.681528091430664\n",
            "7.418051719665527\n",
            "4.987536430358887\n",
            "2.3338215351104736\n",
            "1.4019933938980103\n",
            "2.48726749420166\n",
            "3.4484105110168457\n",
            "2.7645647525787354\n",
            "1.5787795782089233\n",
            "1.1267696619033813\n",
            "1.4273324012756348\n",
            "1.9013453722000122\n",
            "test loss 2.356 \n"
          ],
          "name": "stdout"
        }
      ]
    },
    {
      "cell_type": "code",
      "metadata": {
        "colab": {
          "base_uri": "https://localhost:8080/"
        },
        "id": "QCw8QKlZDEw-",
        "outputId": "91d6396f-a391-4aff-914e-c67dd09944f8"
      },
      "source": [
        "train_epocs(model, epochs=10, lr=0.01, wd=1e-6, unsqueeze=True)"
      ],
      "execution_count": 42,
      "outputs": [
        {
          "output_type": "stream",
          "text": [
            "2.0937299728393555\n",
            "1.1531654596328735\n",
            "1.0286725759506226\n",
            "1.3508445024490356\n",
            "1.357296109199524\n",
            "1.131130337715149\n",
            "0.951019823551178\n",
            "0.9266494512557983\n",
            "1.006837248802185\n",
            "1.0771616697311401\n",
            "test loss 1.468 \n"
          ],
          "name": "stdout"
        }
      ]
    },
    {
      "cell_type": "markdown",
      "metadata": {
        "id": "9qVvXn3NDMDG"
      },
      "source": [
        "**Reference:**\n",
        "Lesson 5 of Jeremy Howard's Deep Learning Course"
      ]
    }
  ]
}
